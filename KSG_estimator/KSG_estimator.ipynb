{
 "cells": [
  {
   "cell_type": "code",
   "execution_count": null,
   "id": "f830c4ee",
   "metadata": {},
   "outputs": [],
   "source": [
    "import torch\n",
    "import numpy as np\n",
    "import matplotlib.pyplot as plt\n",
    "from matplotlib.ticker import MaxNLocator\n",
    "from matplotlib.ticker import MultipleLocator\n",
    "import matplotlib.cm as cm\n",
    "import copy\n",
    "import seaborn as sns\n",
    "from scipy.stats import norm\n",
    "from sklearn.neighbors import KernelDensity, LocalOutlierFactor\n",
    "from scipy.special import digamma # ต้องติดตั้ง scipy ด้วย pip install scipy\n",
    "\n"
   ]
  },
  {
   "cell_type": "markdown",
   "id": "4f5e871f",
   "metadata": {},
   "source": [
    "## Function"
   ]
  },
  {
   "cell_type": "code",
   "execution_count": null,
   "id": "6689a027",
   "metadata": {},
   "outputs": [],
   "source": [
    "def euclidean_distance(v1, v2):\n",
    "    \"\"\"คำนวณ Euclidean distance ระหว่างเวกเตอร์สองตัว\"\"\"\n",
    "    return np.sqrt(np.sum((v1 - v2)**2))\n",
    "\n",
    "def maximum_norm_distance(point1, point2):\n",
    "    \"\"\"\n",
    "    คำนวณระยะห่าง Maximum Norm (L-infinity) ระหว่างสองจุด\n",
    "    นี่คือ norm ที่ใช้ใน KSG estimator\n",
    "    \"\"\"\n",
    "    return np.max(np.abs(point1 - point2))"
   ]
  },
  {
   "cell_type": "code",
   "execution_count": null,
   "id": "6a06b4fb",
   "metadata": {},
   "outputs": [],
   "source": [
    "def k_nearest_neighbors(z_space, query_point, k, norm=\"euclidean\"):\n",
    "    \"\"\"\n",
    "    Calculate the k-nearest neighbors of a query point in a dataset (z_space).\n",
    "    Returns the k nearest data points, their indices, their distances,\n",
    "    and the distance to the k-th nearest neighbor (kth_nearest_dist).\n",
    "    \n",
    "    Parameters:\n",
    "    z_space : numpy.ndarray\n",
    "        The dataset where each row is a data point (e.g., joint space (X,Y) for KSG).\n",
    "        Must be a 2D numerical array (e.g., [[x1, y1_val1], [x2, y2_val2], ...]).\n",
    "    query_point : numpy.ndarray\n",
    "        The point for which to find the nearest neighbors.\n",
    "        Must be a 1D numerical array.\n",
    "    k : int\n",
    "        The number of nearest neighbors to find.\n",
    "    norm : str\n",
    "        The norm to use for distance calculation (\"euclidean\" or \"maximum\").\n",
    "\n",
    "    Returns:\n",
    "    tuple: (data_nearest, k_nearest_indices, k_nearest_distances, kth_nearest_dist)\n",
    "        data_nearest : numpy.ndarray\n",
    "            The k data points closest to the query_point.\n",
    "        k_nearest_indices : numpy.ndarray\n",
    "            The indices of the k nearest data points in z_space.\n",
    "        k_nearest_distances : list\n",
    "            The distances of the k nearest data points.\n",
    "        kth_nearest_dist : float\n",
    "            The distance to the k-th nearest neighbor.\n",
    "    \"\"\"\n",
    "    if k <= 0:\n",
    "        raise ValueError(\"k must be a positive integer.\")\n",
    "    if k > z_space.shape[0]:\n",
    "        raise ValueError(f\"k ({k}) cannot be greater than the number of points in the dataset ({z_space.shape[0]}).\")\n",
    "\n",
    "    distances_with_indices = []\n",
    "    \n",
    "    # คำนวณระยะห่างระหว่าง query_point และทุกๆ data_point ใน z_space\n",
    "    for i, data_point in enumerate(z_space):\n",
    "        # ตรวจสอบว่าอินพุตเป็นตัวเลขทั้งหมดหรือไม่ (ป้องกัน object array)\n",
    "        if data_point.dtype == object or query_point.dtype == object:\n",
    "             raise TypeError(\"Input arrays must contain numerical data, not objects or nested lists.\")\n",
    "\n",
    "        if norm == \"euclidean\":\n",
    "            dist = euclidean_distance(query_point, data_point)\n",
    "        elif norm == \"maximum\":\n",
    "            dist = maximum_norm_distance(query_point, data_point)\n",
    "        else:\n",
    "            raise ValueError(\"Unsupported norm. Use 'euclidean' or 'maximum'.\")\n",
    "        \n",
    "        distances_with_indices.append((dist, i)) # เก็บระยะห่างและดัชนีคู่กัน\n",
    "    \n",
    "    # เรียงลำดับตามระยะห่างจากน้อยไปมาก\n",
    "    distances_with_indices.sort(key=lambda x: x[0]) # เรียงตามระยะห่าง (x[0])\n",
    "    \n",
    "    # กรองจุด query_point เองออก หากระยะห่างเป็น 0 (และ query_point อยู่ใน z_space)\n",
    "    # เราต้องการเพื่อนบ้าน 'k' ตัวที่ไม่ใช่ตัวมันเอง\n",
    "    valid_neighbors = []\n",
    "    for dist, idx in distances_with_indices:\n",
    "        if dist > 0.0 or (dist == 0.0 and not np.all(query_point == z_space[idx])):\n",
    "            valid_neighbors.append((dist, idx))\n",
    "        if len(valid_neighbors) == k:\n",
    "            break # หยุดเมื่อได้เพื่อนบ้านครบ k ตัวแล้ว\n",
    "    \n",
    "    if len(valid_neighbors) < k:\n",
    "        # กรณีนี้อาจเกิดขึ้นถ้ามีจุดซ้ำกันมากจนหาเพื่อนบ้านไม่ครบ k ตัว\n",
    "        raise ValueError(f\"Could not find {k} distinct non-self neighbors for the query point. Only found {len(valid_neighbors)}.\")\n",
    "\n",
    "    # แยกข้อมูลที่ต้องการคืนค่า\n",
    "    k_nearest_distances = [d for d, _ in valid_neighbors]\n",
    "    k_nearest_indices = np.array([idx for _, idx in valid_neighbors])\n",
    "    data_nearest = z_space[k_nearest_indices]\n",
    "    \n",
    "    # ระยะห่างไปยังเพื่อนบ้านลำดับที่ k คือค่าสุดท้ายในรายการ k_nearest_distances\n",
    "    kth_nearest_dist = k_nearest_distances[-1]\n",
    "    \n",
    "    return data_nearest, k_nearest_indices, k_nearest_distances, kth_nearest_dist"
   ]
  },
  {
   "cell_type": "code",
   "execution_count": null,
   "id": "cf6f6b98",
   "metadata": {},
   "outputs": [],
   "source": [
    "def ksg_mi_estimator_v1(x, y, k=5):\n",
    "    \"\"\"\n",
    "    Estimates Mutual Information I(X;Y) using KSG Algorithm 1.\n",
    "    This implementation uses the custom k_nearest_neighbors function.\n",
    "\n",
    "    Parameters:\n",
    "    x : numpy.ndarray\n",
    "        Data for variable X (shape: N x dx). สามารถเป็น 1D ได้ จะถูก reshape ให้เป็น 2D\n",
    "    y : numpy.ndarray\n",
    "        Data for variable Y (shape: N x dy). สามารถเป็น 1D ได้ จะถูก reshape ให้เป็น 2D\n",
    "    k : int, optional\n",
    "        The k-nearest neighbor parameter. Default คือ 5.\n",
    "\n",
    "    Returns:\n",
    "    float\n",
    "        The estimated Mutual Information I(X;Y).\n",
    "\n",
    "    Raises:\n",
    "    AssertionError: ถ้าจำนวนตัวอย่างใน X และ Y ไม่เท่ากัน\n",
    "    ValueError: ถ้า k ไม่ถูกต้อง หรือข้อมูลไม่ใช่ตัวเลข\n",
    "    \"\"\"\n",
    "    assert x.shape[0] == y.shape[0], \"จำนวนตัวอย่างของ X และ Y ต้องเท่ากัน\"\n",
    "    N = x.shape[0]\n",
    "    # k ต้องไม่เกินจำนวนตัวอย่าง-1 (เพราะเพื่อนบ้านต้องเป็นจุด 'อื่น' และ KSG ต้องมีเพื่อนบ้านอย่างน้อย k ตัว)\n",
    "    assert k <= N - 1, f\"k ({k}) ต้องน้อยกว่าจำนวนตัวอย่าง - 1 ({N-1}). โปรดตรวจสอบค่า k หรือขนาดข้อมูล.\"\n",
    "    \n",
    "    # ปรับรูปร่าง array 1 มิติให้เป็น 2 มิติ (column vector) เพื่อให้ concatenate ได้อย่างสอดคล้องกัน\n",
    "    if x.ndim == 1:\n",
    "        x = x.reshape(-1, 1)\n",
    "    if y.ndim == 1:\n",
    "        y = y.reshape(-1, 1)\n",
    "    \n",
    "    # สร้างปริภูมิร่วม Z = (X, Y)\n",
    "    data_joint = np.concatenate((x, y), axis=1)\n",
    "\n",
    "    # --- ขั้นตอนที่ 1: คำนวณ epsilon(i)/2 (current_radius) สำหรับแต่ละจุด ---\n",
    "    # โดยการหาระยะห่างไปยังเพื่อนบ้านลำดับที่ k ในปริภูมิร่วม (ใช้ Maximum norm เสมอสำหรับ KSG)\n",
    "    radii = np.zeros(N)\n",
    "    for i in range(N):\n",
    "        # k_nearest_neighbors จะคืนค่า 4 อย่าง เราสนใจตัวสุดท้าย (kth_nearest_dist)\n",
    "        _, _, _, kth_dist_val = k_nearest_neighbors(data_joint, data_joint[i], k, norm=\"maximum\")\n",
    "        radii[i] = kth_dist_val\n",
    "    \n",
    "    # --- ขั้นตอนที่ 2: นับ n_x และ n_y โดยใช้รัศมีที่กำหนด ---\n",
    "    sum_digamma_nx_plus_1 = 0.0\n",
    "    sum_digamma_ny_plus_1 = 0.0\n",
    "\n",
    "    for i in range(N):\n",
    "        current_radius = radii[i] # นี่คือค่า epsilon(i)/2 สำหรับจุด z_i ปัจจุบัน\n",
    "        \n",
    "        # นับ n_x: จำนวนจุด x_j (ในปริภูมิชายขอบ X) ที่มีระยะห่างจาก x_i น้อยกว่า current_radius อย่างเคร่งครัด\n",
    "        nx_count = 0\n",
    "        for j in range(N):\n",
    "            if i == j: # ไม่นับจุดตัวเอง\n",
    "                continue\n",
    "            # ใช้ maximum_norm_distance สำหรับการนับในปริภูมิชายขอบด้วย เพื่อความสอดคล้องกับ KSG\n",
    "            if maximum_norm_distance(x[i], x[j]) < current_radius: # ใช้เครื่องหมายน้อยกว่า (<) อย่างเคร่งครัด\n",
    "                nx_count += 1\n",
    "        \n",
    "        # นับ n_y: จำนวนจุด y_j (ในปริภูมิชายขอบ Y) ที่มีระยะห่างจาก y_i น้อยกว่า current_radius อย่างเคร่งครัด\n",
    "        ny_count = 0\n",
    "        for j in range(N):\n",
    "            if i == j: # ไม่นับจุดตัวเอง\n",
    "                continue\n",
    "            # ใช้ maximum_norm_distance สำหรับการนับในปริภูมิชายขอบด้วย\n",
    "            if maximum_norm_distance(y[i], y[j]) < current_radius: # ใช้เครื่องหมายน้อยกว่า (<) อย่างเคร่งครัด\n",
    "                ny_count += 1\n",
    "        \n",
    "        sum_digamma_nx_plus_1 += digamma(nx_count + 1)\n",
    "        sum_digamma_ny_plus_1 += digamma(ny_count + 1)\n",
    "\n",
    "    # --- ขั้นตอนที่ 3: คำนวณ Mutual Information ตามสูตร KSG Algorithm 1 ---\n",
    "    # I(X,Y) = psi(k) - <psi(nx+1) + psi(ny+1)> + psi(N)\n",
    "    mi_estimate = digamma(k) + digamma(N) - (sum_digamma_nx_plus_1 + sum_digamma_ny_plus_1) / N\n",
    "\n",
    "    return mi_estimate\n"
   ]
  },
  {
   "cell_type": "markdown",
   "id": "b3bedff0",
   "metadata": {},
   "source": [
    "## Example"
   ]
  },
  {
   "cell_type": "code",
   "execution_count": null,
   "id": "908e4f02",
   "metadata": {},
   "outputs": [],
   "source": [
    "# สร้างข้อมูลตัวอย่าง: N=100 จุด\n",
    "n_samples = 100\n",
    "\n",
    "# กรณีที่ 1: X และ Y มีความสัมพันธ์เชิงเส้น (ควรได้ MI สูง)\n",
    "x_linear = np.random.rand(n_samples, 1) * 10 # X เป็น 1 มิติ\n",
    "y_linear = 2 * x_linear + np.random.randn(n_samples, 1) # Y เป็น 1 มิติ มีความสัมพันธ์กับ X\n",
    "\n",
    "# กรณีที่ 2: X และ Y เป็นอิสระต่อกัน (ควรได้ MI ใกล้ 0)\n",
    "x_independent = np.random.rand(n_samples, 1) # X เป็น 1 มิติ\n",
    "y_independent = np.random.rand(n_samples, 1) # Y เป็น 1 มิติ เป็นอิสระจาก X\n",
    "\n",
    "# กรณีที่ 3: X เป็น 2 มิติ Y เป็น 1 มิติ (ตัวอย่างหลายมิติ)\n",
    "x_multi_dim = np.random.rand(n_samples, 2) # X เป็น 2 มิติ\n",
    "y_multi_dim = x_multi_dim[:, 0:1] + x_multi_dim[:, 1:2] + 0.5 * np.random.randn(n_samples, 1) # Y สัมพันธ์กับทั้งสองมิติของ X\n",
    "\n",
    "print(\"--- ผลลัพธ์จากการประมาณค่า Mutual Information ด้วย KSG Estimator V1 ---\")\n",
    "print(f\"จำนวนตัวอย่าง: {n_samples}, ค่า k: 5\")\n",
    "\n",
    "# คำนวณ MI สำหรับกรณีที่มีความสัมพันธ์\n",
    "mi_linear = ksg_mi_estimator_v1(x_linear, y_linear, k=5)\n",
    "print(f\"MI (ความสัมพันธ์เชิงเส้น): {mi_linear:.4f}\")\n",
    "\n",
    "# คำนวณ MI สำหรับกรณีที่เป็นอิสระ\n",
    "mi_independent = ksg_mi_estimator_v1(x_independent, y_independent, k=5)\n",
    "print(f\"MI (ตัวแปรอิสระ): {mi_independent:.4f}\")\n",
    "\n",
    "# คำนวณ MI สำหรับกรณีหลายมิติ\n",
    "mi_multi_dim = ksg_mi_estimator_v1(x_multi_dim, y_multi_dim, k=5)\n",
    "print(f\"MI (หลายมิติ): {mi_multi_dim:.4f}\")"
   ]
  },
  {
   "cell_type": "markdown",
   "id": "aeafffe9",
   "metadata": {},
   "source": [
    "## My Data"
   ]
  },
  {
   "cell_type": "code",
   "execution_count": 77,
   "id": "35247afc",
   "metadata": {},
   "outputs": [],
   "source": [
    "num_seeds = 30\n",
    "seed = 0\n",
    "# Load fullstate\n",
    "data_fullstate = np.empty(num_seeds, dtype=object)\n",
    "data_no_joint_pos = np.empty(num_seeds, dtype=object)\n",
    "data_no_joint_vel = np.empty(num_seeds, dtype=object)\n",
    "data_no_action = np.empty(num_seeds, dtype=object)\n",
    "data_no_imu = np.empty(num_seeds, dtype=object)\n",
    "data_no_fc = np.empty(num_seeds, dtype=object)\n",
    "for i in range(num_seeds):\n",
    "    data_fullstate[i] = np.load(f\"data/HEBB-FULL-STATE_seed-{seed}-fullstate-rand-{i}.npz\")    \n",
    "    data_no_joint_pos[i] = np.load(f\"data/HEBB-FULL-STATE_seed-{seed}-no_joint_pos-rand-{i}.npz\")\n",
    "    data_no_joint_vel[i] = np.load(f\"data/HEBB-FULL-STATE_seed-{seed}-no_joint_vel-rand-{i}.npz\")\n",
    "    data_no_action[i] = np.load(f\"data/HEBB-FULL-STATE_seed-{seed}-no_action-rand-{i}.npz\")\n",
    "    data_no_imu[i] = np.load(f\"data/HEBB-FULL-STATE_seed-{seed}-no_imu-rand-{i}.npz\")\n",
    "    data_no_fc[i] = np.load(f\"data/HEBB-FULL-STATE_seed-{seed}-no_fc-rand-{i}.npz\")"
   ]
  },
  {
   "cell_type": "code",
   "execution_count": null,
   "id": "90734823",
   "metadata": {},
   "outputs": [],
   "source": [
    "data_fullstate[0][\"action_lowpass\"].reshape(data_fullstate[0][\"action_lowpass\"].shape[0] , -1).shape\n",
    "data_fullstate[0][\"state\"].reshape(data_fullstate[0][\"state\"].shape[0] , -1).shape\n"
   ]
  },
  {
   "cell_type": "code",
   "execution_count": 105,
   "id": "632eb1a7",
   "metadata": {},
   "outputs": [],
   "source": [
    "num_seeds = 1\n",
    "states = []\n",
    "action_lowpass = []\n",
    "for i in range(num_seeds):\n",
    "    # ดึงข้อมูล 'state' และ 'action_lowpass' ออกจากแต่ละ NpzFile object\n",
    "    # และ reshape ให้แน่ใจว่าเป็น 2D array (N, D)\n",
    "    state_data = data_fullstate[i][\"state\"].reshape(data_fullstate[i][\"state\"].shape[0], -1)\n",
    "    action_data = data_fullstate[i][\"action_lowpass\"].reshape(data_fullstate[i][\"action_lowpass\"].shape[0], -1)\n",
    "    \n",
    "    states.append(state_data)\n",
    "    action_lowpass.append(action_data)\n",
    "x = np.concatenate(states, axis=0)\n",
    "y = np.concatenate(action_lowpass, axis=0)"
   ]
  },
  {
   "cell_type": "code",
   "execution_count": 108,
   "id": "66caa9c5",
   "metadata": {},
   "outputs": [
    {
     "ename": "TypeError",
     "evalue": "unsupported format string passed to list.__format__",
     "output_type": "error",
     "traceback": [
      "\u001b[31m---------------------------------------------------------------------------\u001b[39m",
      "\u001b[31mTypeError\u001b[39m                                 Traceback (most recent call last)",
      "\u001b[36mCell\u001b[39m\u001b[36m \u001b[39m\u001b[32mIn[108]\u001b[39m\u001b[32m, line 5\u001b[39m\n\u001b[32m      3\u001b[39m     mi_my = ksg_mi_estimator_v1(x[:,i], y, k=\u001b[32m5\u001b[39m)\n\u001b[32m      4\u001b[39m     mi_list.append(mi_my)\n\u001b[32m----> \u001b[39m\u001b[32m5\u001b[39m \u001b[38;5;28mprint\u001b[39m(\u001b[33mf\u001b[39m\u001b[33m\"\u001b[39m\u001b[33mMI (MY DATA): \u001b[39m\u001b[38;5;132;43;01m{\u001b[39;49;00m\u001b[43mmi_list\u001b[49m\u001b[38;5;132;43;01m:\u001b[39;49;00m\u001b[33;43m.4f\u001b[39;49m\u001b[38;5;132;43;01m}\u001b[39;49;00m\u001b[33m\"\u001b[39m)\n",
      "\u001b[31mTypeError\u001b[39m: unsupported format string passed to list.__format__"
     ]
    }
   ],
   "source": [
    "mi_list = []\n",
    "for i in range(state_data.shape[1]):\n",
    "    mi_my = ksg_mi_estimator_v1(x[:,i], y, k=5)\n",
    "    mi_list.append(mi_my)\n",
    "print(f\"MI (MY DATA): {mi_list:.4f}\")"
   ]
  },
  {
   "cell_type": "code",
   "execution_count": 109,
   "id": "be053c2c",
   "metadata": {},
   "outputs": [
    {
     "name": "stdout",
     "output_type": "stream",
     "text": [
      "MI (MY DATA): [np.float64(1.3730972101336256), np.float64(1.3161457682989557), np.float64(1.3968166714585921), np.float64(1.0656096638640982), np.float64(1.0476379117310541), np.float64(1.0943904520352534), np.float64(1.0475342211152538), np.float64(0.9074360736005609), np.float64(0.9962092759626442), np.float64(0.7727219122756779), np.float64(0.8558878007643598), np.float64(1.0479784644660342), np.float64(1.075002307132527), np.float64(1.065553141190188), np.float64(1.0523514807335026), np.float64(0.9639718645417554), np.float64(0.8977616447930172), np.float64(0.7906554883680039), np.float64(0.9876989160375205), np.float64(1.372095116747956), np.float64(1.3562290951018872), np.float64(1.4272341939350834), np.float64(1.3699360067961717), np.float64(1.3275991081693927), np.float64(1.434776046788512), np.float64(1.3484826738768687), np.float64(1.4038081419142445), np.float64(1.2751164653014975), np.float64(1.4726975992620748), np.float64(1.436373174738402), np.float64(1.3212660976175457), np.float64(1.372893975711733), np.float64(1.344781125519411), np.float64(1.3122905652564558), np.float64(1.1710288192799405), np.float64(1.1618394618522316), np.float64(1.3160203264187054), np.float64(1.2546162395864826), np.float64(0.6489275162680617), np.float64(0.6628275289599239), np.float64(0.6691365702492975), np.float64(0.3170218809980767), np.float64(0.4102532277408333), np.float64(0.4714667982196872), np.float64(0.4022866459025103), np.float64(0.2237947600749024), np.float64(0.3370393184639262), np.float64(0.0825549626680715), np.float64(0.1342625522765637), np.float64(0.3631641526267302), np.float64(0.5118669945865868), np.float64(0.5475524767796482), np.float64(0.470315812436775), np.float64(0.4862417131071215), np.float64(0.34664736233887794), np.float64(0.04792698058502509), np.float64(0.5433442285919048), np.float64(0.21202087951834336), np.float64(0.0988568051250791), np.float64(0.6287065368316771), np.float64(0.5492369406235422), np.float64(0.5065390075818037), np.float64(0.5629852963971631), np.float64(0.6035884418101105)]\n"
     ]
    }
   ],
   "source": [
    "print(f\"MI (MY DATA): {mi_list}\")"
   ]
  },
  {
   "cell_type": "code",
   "execution_count": 118,
   "id": "f7ad33b1",
   "metadata": {},
   "outputs": [
    {
     "data": {
      "text/plain": [
       "[<matplotlib.lines.Line2D at 0x1b67aa831a0>]"
      ]
     },
     "execution_count": 118,
     "metadata": {},
     "output_type": "execute_result"
    },
    {
     "data": {
      "image/png": "[encoded data removed]",
      "text/plain": [
       "<Figure size 1000x600 with 1 Axes>"
      ]
     },
     "metadata": {},
     "output_type": "display_data"
    }
   ],
   "source": [
    "plt.figure(figsize=(10, 6))\n",
    "plt.plot(np.arange(64) , mi_list , marker='o', linestyle='--', color='b')"
   ]
  },
  {
   "cell_type": "code",
   "execution_count": null,
   "id": "d1f8b4b0",
   "metadata": {},
   "outputs": [],
   "source": []
  }
 ],
 "metadata": {
  "kernelspec": {
   "display_name": ".venv",
   "language": "python",
   "name": "python3"
  },
  "language_info": {
   "codemirror_mode": {
    "name": "ipython",
    "version": 3
   },
   "file_extension": ".py",
   "mimetype": "text/x-python",
   "name": "python",
   "nbconvert_exporter": "python",
   "pygments_lexer": "ipython3",
   "version": "3.12.10"
  }
 },
 "nbformat": 4,
 "nbformat_minor": 5
}
