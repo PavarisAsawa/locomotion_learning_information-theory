{
 "cells": [
  {
   "cell_type": "markdown",
   "id": "2f090198",
   "metadata": {},
   "source": [
    "## **Mutual Information Analysis for locomotion learning**"
   ]
  },
  {
   "cell_type": "code",
   "execution_count": 1,
   "id": "bef201e2",
   "metadata": {},
   "outputs": [
    {
     "ename": "ModuleNotFoundError",
     "evalue": "No module named 'torch'",
     "output_type": "error",
     "traceback": [
      "\u001b[0;31m---------------------------------------------------------------------------\u001b[0m",
      "\u001b[0;31mModuleNotFoundError\u001b[0m                       Traceback (most recent call last)",
      "Cell \u001b[0;32mIn[1], line 2\u001b[0m\n\u001b[1;32m      1\u001b[0m \u001b[38;5;28;01mfrom\u001b[39;00m\u001b[38;5;250m \u001b[39m\u001b[38;5;21;01mcollections\u001b[39;00m\u001b[38;5;250m \u001b[39m\u001b[38;5;28;01mimport\u001b[39;00m Counter\n\u001b[0;32m----> 2\u001b[0m \u001b[38;5;28;01mimport\u001b[39;00m\u001b[38;5;250m \u001b[39m\u001b[38;5;21;01mtorch\u001b[39;00m\n\u001b[1;32m      3\u001b[0m \u001b[38;5;28;01mimport\u001b[39;00m\u001b[38;5;250m \u001b[39m\u001b[38;5;21;01mnumpy\u001b[39;00m\u001b[38;5;250m \u001b[39m\u001b[38;5;28;01mas\u001b[39;00m\u001b[38;5;250m \u001b[39m\u001b[38;5;21;01mnp\u001b[39;00m\n",
      "\u001b[0;31mModuleNotFoundError\u001b[0m: No module named 'torch'"
     ]
    }
   ],
   "source": [
    "from collections import Counter\n",
    "import torch\n",
    "import numpy as np"
   ]
  },
  {
   "cell_type": "code",
   "execution_count": 2,
   "id": "a60c3cd4",
   "metadata": {},
   "outputs": [],
   "source": [
    "data = torch.load(\"fullstate.pt\")\n",
    "# print(data)"
   ]
  },
  {
   "cell_type": "markdown",
   "id": "66cb2a27",
   "metadata": {},
   "source": [
    "#### **Data Preprocessing**"
   ]
  },
  {
   "cell_type": "code",
   "execution_count": null,
   "id": "9e471380",
   "metadata": {},
   "outputs": [
    {
     "name": "stdout",
     "output_type": "stream",
     "text": [
      "STATE SIZE :  (500000, 64)\n",
      "ACTION SIZE :  (500000, 19)\n"
     ]
    }
   ],
   "source": [
    "# 2000\n",
    "state = torch.cat(data[\"state\"]).cpu().numpy()\n",
    "action = torch.cat(data[\"action\"]).cpu().numpy()\n",
    "n_sample = state.shape[0]\n",
    "state = state[:50000]\n",
    "action = action[:50000]\n",
    "print(\"STATE SIZE : \", state.shape)\n",
    "print(\"ACTION SIZE : \", action.shape)"
   ]
  },
  {
   "cell_type": "code",
   "execution_count": 14,
   "id": "7d135178",
   "metadata": {},
   "outputs": [
    {
     "name": "stdout",
     "output_type": "stream",
     "text": [
      "BIN :  [-1.         -0.93103448 -0.86206897 -0.79310345 -0.72413793 -0.65517241\n",
      " -0.5862069  -0.51724138 -0.44827586 -0.37931034 -0.31034483 -0.24137931\n",
      " -0.17241379 -0.10344828 -0.03448276  0.03448276  0.10344828  0.17241379\n",
      "  0.24137931  0.31034483  0.37931034  0.44827586  0.51724138  0.5862069\n",
      "  0.65517241  0.72413793  0.79310345  0.86206897  0.93103448  1.        ]\n"
     ]
    }
   ],
   "source": [
    "n_bins = 30\n",
    "bins = np.linspace(-1, 1, n_bins)\n",
    "print(\"BIN : \" ,bins)\n",
    "state_bin = np.digitize(state, bins=bins)\n",
    "action_bin = np.digitize(action, bins=bins)"
   ]
  },
  {
   "cell_type": "markdown",
   "id": "de79ac3e",
   "metadata": {},
   "source": [
    "#### **Count unique state-action**"
   ]
  },
  {
   "cell_type": "code",
   "execution_count": 15,
   "id": "b90db1ef",
   "metadata": {},
   "outputs": [
    {
     "name": "stdout",
     "output_type": "stream",
     "text": [
      "UNIQUE STATE :  496948\n",
      "UNIQUE STATE :  438952\n"
     ]
    }
   ],
   "source": [
    "unique_state_patterns, state_counts = np.unique(state_bin, axis=0, return_counts=True)\n",
    "print(\"UNIQUE STATE : \", len(state_counts))\n",
    "unique_action_patterns, action_counts = np.unique(action_bin, axis=0, return_counts=True)\n",
    "print(\"UNIQUE STATE : \", len(action_counts))"
   ]
  },
  {
   "cell_type": "code",
   "execution_count": 12,
   "id": "04d5b2f7",
   "metadata": {},
   "outputs": [],
   "source": [
    "def prob_counter(state_bin , action_bin , n_sample):\n",
    "    p_state = Counter()\n",
    "    p_action = Counter()\n",
    "    p_state_action = Counter()\n",
    "    for i in range(n_sample):\n",
    "        state_key = tuple(state_bin[i])\n",
    "        action_key = tuple(action_bin[i])\n",
    "\n",
    "        p_state[state_key] += 1/(n_sample)\n",
    "        p_action[action_key] += 1/(n_sample)\n",
    "        p_state_action[state_key + action_key] += 1/(n_sample)"
   ]
  },
  {
   "cell_type": "markdown",
   "id": "83b6ca7e",
   "metadata": {},
   "source": [
    "## **Estimating mutual information**"
   ]
  },
  {
   "cell_type": "markdown",
   "id": "8c036846",
   "metadata": {},
   "source": [
    "Estimate mutual information for a discrete target variable.\n",
    "\n",
    "Mutual information (MI) [1] between two random variables is a non-negative value, which measures the dependency between the variables. It is equal to zero if and only if two random variables are independent, and higher values mean higher dependency.\n",
    "\n",
    "The function relies on nonparametric methods based on entropy estimation from k-nearest neighbors distances as described in [2] and [3]. Both methods are based on the idea originally proposed in [4].\n",
    "\n",
    "It can be used for univariate features selection, read more in the User Guide.\n",
    "\n",
    "https://scikit-learn.org/stable/modules/generated/sklearn.feature_selection.mutual_info_classif.html"
   ]
  },
  {
   "cell_type": "code",
   "execution_count": 21,
   "id": "eefe18d9",
   "metadata": {},
   "outputs": [],
   "source": [
    "from sklearn.feature_selection import mutual_info_classif , mutual_info_regression"
   ]
  },
  {
   "cell_type": "code",
   "execution_count": 22,
   "id": "8b804b15",
   "metadata": {},
   "outputs": [
    {
     "data": {
      "text/plain": [
       "array([0.19169185, 0.2126726 , 0.17580874, 0.17112678, 0.23385294,\n",
       "       0.26131139, 0.29388112, 0.40509893, 0.05630774, 0.2899672 ,\n",
       "       0.17147522, 0.22899034, 0.11246855, 0.1948124 , 0.23155449,\n",
       "       0.05756503, 0.17038606, 0.16362867, 0.17573942])"
      ]
     },
     "execution_count": 22,
     "metadata": {},
     "output_type": "execute_result"
    }
   ],
   "source": [
    "mutual_info_regression(action , state[:,0])"
   ]
  }
 ],
 "metadata": {
  "kernelspec": {
   "display_name": ".venv",
   "language": "python",
   "name": "python3"
  },
  "language_info": {
   "codemirror_mode": {
    "name": "ipython",
    "version": 3
   },
   "file_extension": ".py",
   "mimetype": "text/x-python",
   "name": "python",
   "nbconvert_exporter": "python",
   "pygments_lexer": "ipython3",
   "version": "3.12.10"
  }
 },
 "nbformat": 4,
 "nbformat_minor": 5
}
