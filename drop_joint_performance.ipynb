{
 "cells": [
  {
   "cell_type": "markdown",
   "id": "17e0078e",
   "metadata": {},
   "source": [
    "# Visualize PCA of weight, activity and Estimates MI from data"
   ]
  },
  {
   "cell_type": "markdown",
   "id": "7be5c2d4",
   "metadata": {},
   "source": [
    "## Import lib"
   ]
  },
  {
   "cell_type": "code",
   "execution_count": 2,
   "id": "9e8ab800",
   "metadata": {},
   "outputs": [],
   "source": [
    "import torch\n",
    "import torch.nn as nn\n",
    "from torch.utils.data import DataLoader , TensorDataset\n",
    "from torchvision.utils import save_image, make_grid\n",
    "from torch.optim import Adam\n",
    "import torch.nn.init as init\n",
    "\n",
    "import numpy as np\n",
    "import math\n",
    "\n",
    "import matplotlib.pyplot as plt\n",
    "from matplotlib.ticker import MaxNLocator\n",
    "from matplotlib.ticker import MultipleLocator\n",
    "import matplotlib.cm as cm\n",
    "\n",
    "import copy\n",
    "import seaborn as sns\n",
    "\n",
    "from scipy.stats import norm\n",
    "from sklearn.neighbors import KernelDensity, LocalOutlierFactor\n",
    "from sklearn.decomposition import PCA\n",
    "\n",
    "import tqdm\n",
    "\n",
    "import pickle\n",
    "\n",
    "# MI estimators\n",
    "from utils.estimators import *"
   ]
  },
  {
   "cell_type": "markdown",
   "id": "90f6e64d",
   "metadata": {},
   "source": [
    "## Load data"
   ]
  },
  {
   "cell_type": "code",
   "execution_count": 9,
   "id": "c251c2cf",
   "metadata": {},
   "outputs": [],
   "source": [
    "case = 19\n",
    "temp_load = []\n",
    "for i in range(case):\n",
    "    with open(f\"data/drop_joint/ZERO_LONG-HEBB-FULL_STATE-seed_0-case_{i}-rand-0.pkl\", \"rb\") as m:\n",
    "        loaded_zero = pickle.load(m)\n",
    "        temp_load.append(loaded_zero)"
   ]
  },
  {
   "cell_type": "code",
   "execution_count": 4,
   "id": "49adba19",
   "metadata": {},
   "outputs": [],
   "source": [
    "def reshape_to_single(val):\n",
    "    '''\n",
    "    Input dim : [timestep , np:[1,dim] ]\n",
    "    Return dim : np: [timestep , dim]\n",
    "    '''\n",
    "    for i in range(len(val)):\n",
    "        val[i] = val[i].reshape(-1)\n",
    "    return np.array(val)"
   ]
  },
  {
   "cell_type": "code",
   "execution_count": 5,
   "id": "3222f687",
   "metadata": {},
   "outputs": [],
   "source": [
    "def select_activity_layer(activity,selected_layer):\n",
    "    '''\n",
    "    Input dim : [timestep][layer]\n",
    "    Return dim : np: [timestep , dim]\n",
    "    '''\n",
    "    buff = []\n",
    "    for t in range(len(activity)):\n",
    "        layer = activity[t][selected_layer]\n",
    "        buff.append(layer.reshape(-1) if isinstance(layer, np.ndarray) else layer.numpy().reshape(-1))\n",
    "    return np.array(buff , dtype=object)"
   ]
  },
  {
   "cell_type": "code",
   "execution_count": 6,
   "id": "601cad12",
   "metadata": {},
   "outputs": [],
   "source": [
    "def select_weight_layer(weight,selected_layer):\n",
    "    '''\n",
    "    Input dim : [timestep][layer]\n",
    "    Return dim : np: [timestep , dim]\n",
    "    '''\n",
    "    buff = []\n",
    "    for t in range(len(weight)):\n",
    "        _b = weight[t][selected_layer][0]\n",
    "        buff.append(_b if isinstance(_b, np.ndarray) else _b.numpy())\n",
    "    return np.array(buff , dtype=object)"
   ]
  },
  {
   "cell_type": "markdown",
   "id": "f23fb2c3",
   "metadata": {},
   "source": [
    "Load Normal"
   ]
  },
  {
   "cell_type": "code",
   "execution_count": 13,
   "id": "9a4128c1",
   "metadata": {},
   "outputs": [],
   "source": [
    "all_data = []\n",
    "\n",
    "for load in temp_load:\n",
    "    temp = {}\n",
    "    activity    = load[\"brain\"][\"activity\"]              # [timestep][layer_n][ 1 , hidden_dim]\n",
    "    weight      = load[\"brain\"][\"weight\"]                # [timestep][layer_n][ 1 , 64 , 128]\n",
    "    temp[\"input\"]       = reshape_to_single(load[\"data\"][\"state\"])           # [timestep][1 , all_observation] ---reshape---> [timestep, all_obs]\n",
    "    temp[\"pos_x\"]       = reshape_to_single(load[\"data\"][\"pos_x\"])\n",
    "    temp[\"pos_y\"]       = reshape_to_single(load[\"data\"][\"pos_y\"])\n",
    "    temp[\"torque\"]       = reshape_to_single(load[\"data\"][\"torque\"])\n",
    "    temp[\"reward\"]       = reshape_to_single(load[\"data\"][\"reward\"])\n",
    "    temp[\"act_hid_1\"]   = select_activity_layer(activity , 0)             # [timestep][layer_n][1 , hidden_dim] ---reshape---> [timestep, num_dim_of_selected_layer]\n",
    "    temp[\"act_hid_2\"]   = select_activity_layer(activity , 1)\n",
    "    temp[\"weight_hid_1\"] = select_weight_layer(weight,0)\n",
    "    temp[\"weight_hid_2\"] = select_weight_layer(weight,1)\n",
    "    temp[\"weight_hid_3\"] = select_weight_layer(weight,2)\n",
    "    temp[\"output\"]      = reshape_to_single(load[\"data\"][\"action\"])          # [timestep][1 , all_observation] ---reshape---> [timestep, all_obs]\n",
    "    all_data.append(temp)"
   ]
  },
  {
   "cell_type": "markdown",
   "id": "d1fbf306",
   "metadata": {},
   "source": [
    "get Max distance"
   ]
  },
  {
   "cell_type": "code",
   "execution_count": 20,
   "id": "0c20a278",
   "metadata": {},
   "outputs": [],
   "source": [
    "buf = []\n",
    "for joint_index in all_data:\n",
    "    buf.append(np.max(joint_index[\"pos_x\"], axis=0))\n",
    "buf = np.array(buf)"
   ]
  },
  {
   "cell_type": "code",
   "execution_count": 25,
   "id": "59c58178",
   "metadata": {},
   "outputs": [
    {
     "data": {
      "image/png": "[encoded data removed]",
      "text/plain": [
       "<Figure size 640x480 with 1 Axes>"
      ]
     },
     "metadata": {},
     "output_type": "display_data"
    }
   ],
   "source": [
    "plt.figure()\n",
    "x_lab = [f\"joint {i}\" for i in range(len(all_data))]  # Labels for the x-axis\n",
    "plt.scatter(x_lab, buf)  # Pass x_lab as the x-values and buf as the y-values\n",
    "# Set labels for x and y axes\n",
    "plt.xlabel('Joint Index')  # Label for the x-axis\n",
    "plt.ylabel('Value')  # Label for the y-axis\n",
    "\n",
    "# Rotate the x-axis labels by 45 degrees\n",
    "plt.xticks(rotation=45)\n",
    "plt.show()  # Ensure the plot is displayed"
   ]
  },
  {
   "cell_type": "code",
   "execution_count": null,
   "id": "222157ae",
   "metadata": {},
   "outputs": [],
   "source": []
  }
 ],
 "metadata": {
  "kernelspec": {
   "display_name": ".venv",
   "language": "python",
   "name": "python3"
  },
  "language_info": {
   "codemirror_mode": {
    "name": "ipython",
    "version": 3
   },
   "file_extension": ".py",
   "mimetype": "text/x-python",
   "name": "python",
   "nbconvert_exporter": "python",
   "pygments_lexer": "ipython3",
   "version": "3.10.12"
  }
 },
 "nbformat": 4,
 "nbformat_minor": 5
}
