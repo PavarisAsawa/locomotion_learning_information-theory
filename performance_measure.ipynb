{
 "cells": [
  {
   "cell_type": "code",
   "execution_count": 1,
   "id": "b8c6a285",
   "metadata": {},
   "outputs": [],
   "source": [
    "import torch\n",
    "import numpy as np\n",
    "import matplotlib.pyplot as plt\n",
    "from matplotlib.ticker import MaxNLocator\n",
    "from matplotlib.ticker import MultipleLocator\n",
    "import matplotlib.cm as cm\n",
    "import copy"
   ]
  },
  {
   "cell_type": "code",
   "execution_count": 32,
   "id": "4e888961",
   "metadata": {},
   "outputs": [],
   "source": [
    "num_seeds = 1\n",
    "seed = 0\n",
    "# Load fullstate\n",
    "data_fullstate = np.empty(num_seeds, dtype=object)\n",
    "for i in range(num_seeds):\n",
    "    data_fullstate[i] = np.load(f\"data/fullstate/HEBB-FULL-STATE_seed-{seed}-fullstate-rand-{i}.npz\")\n"
   ]
  },
  {
   "cell_type": "code",
   "execution_count": 33,
   "id": "38cab9e4",
   "metadata": {},
   "outputs": [
    {
     "name": "stdout",
     "output_type": "stream",
     "text": [
      "KeysView(NpzFile 'data/fullstate/HEBB-FULL-STATE_seed-0-fullstate-rand-0.npz' with keys: state, action, vel, action_lowpass, pos_x...)\n"
     ]
    }
   ],
   "source": [
    "print(data_fullstate[0].keys())"
   ]
  },
  {
   "cell_type": "code",
   "execution_count": 34,
   "id": "07cd632f",
   "metadata": {},
   "outputs": [
    {
     "data": {
      "text/plain": [
       "array([[[ 0.        ,  0.        ,  0.        , ...,  0.        ,\n",
       "          0.        ,  0.        ]],\n",
       "\n",
       "       [[ 0.09999996, -0.01795096,  0.1       , ...,  0.09982538,\n",
       "          0.1       , -0.09999996]],\n",
       "\n",
       "       [[ 0.18999997,  0.08384414,  0.19      , ..., -0.01015577,\n",
       "          0.19      ,  0.00994238]],\n",
       "\n",
       "       ...,\n",
       "\n",
       "       [[ 0.02277758, -0.05956636,  0.10054985, ...,  0.49097225,\n",
       "          0.37703705,  0.08688722]],\n",
       "\n",
       "       [[ 0.12049982,  0.04639028,  0.19049487, ...,  0.341883  ,\n",
       "          0.4393333 , -0.00843897]],\n",
       "\n",
       "       [[ 0.20844972,  0.14175126,  0.27144536, ...,  0.3065042 ,\n",
       "          0.4953988 , -0.10681771]]], dtype=float32)"
      ]
     },
     "execution_count": 34,
     "metadata": {},
     "output_type": "execute_result"
    }
   ],
   "source": [
    "data_fullstate[0][\"action_lowpass\"]"
   ]
  },
  {
   "cell_type": "code",
   "execution_count": null,
   "id": "47a6ef38",
   "metadata": {},
   "outputs": [],
   "source": [
    "def plot_posX(data_set , keys):\n",
    "    # plt.figure(figsize=())\n",
    "    steps = np.arrange(len(data_set[keys]))\n",
    "    for run in len(data_set):\n",
    "        plt.plot"
   ]
  },
  {
   "cell_type": "code",
   "execution_count": null,
   "id": "7510ce12",
   "metadata": {},
   "outputs": [],
   "source": []
  }
 ],
 "metadata": {
  "kernelspec": {
   "display_name": "env_isaaclab",
   "language": "python",
   "name": "python3"
  },
  "language_info": {
   "codemirror_mode": {
    "name": "ipython",
    "version": 3
   },
   "file_extension": ".py",
   "mimetype": "text/x-python",
   "name": "python",
   "nbconvert_exporter": "python",
   "pygments_lexer": "ipython3",
   "version": "3.10.16"
  }
 },
 "nbformat": 4,
 "nbformat_minor": 5
}
