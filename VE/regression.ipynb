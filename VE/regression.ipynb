{
 "cells": [
  {
   "cell_type": "markdown",
   "id": "e9ef85cc",
   "metadata": {},
   "source": [
    "# Variational encoder model"
   ]
  },
  {
   "cell_type": "markdown",
   "id": "11eba7db",
   "metadata": {},
   "source": [
    "## import lib\n"
   ]
  },
  {
   "cell_type": "code",
   "execution_count": 1,
   "id": "31dc0fe5",
   "metadata": {},
   "outputs": [],
   "source": [
    "import torch\n",
    "import torch.nn as nn\n",
    "from torch.utils.data import DataLoader , TensorDataset\n",
    "from torchvision.utils import save_image, make_grid\n",
    "from torch.optim import Adam\n",
    "import torch.nn.init as init\n",
    "import cudnn\n",
    "\n",
    "import numpy as np\n",
    "\n",
    "import matplotlib.pyplot as plt\n",
    "from matplotlib.ticker import MaxNLocator\n",
    "from matplotlib.ticker import MultipleLocator\n",
    "import matplotlib.cm as cm\n",
    "\n",
    "import copy\n",
    "import seaborn as sns\n",
    "\n",
    "from scipy.stats import norm\n",
    "from sklearn.neighbors import KernelDensity, LocalOutlierFactor\n",
    "\n",
    "import tqdm\n"
   ]
  },
  {
   "cell_type": "markdown",
   "id": "bb35e968",
   "metadata": {},
   "source": [
    "## ML pipeline"
   ]
  },
  {
   "cell_type": "markdown",
   "id": "af497ac5",
   "metadata": {},
   "source": [
    "### Step 0. Model Hyperparameters"
   ]
  },
  {
   "cell_type": "code",
   "execution_count": 100,
   "id": "00d48352",
   "metadata": {},
   "outputs": [],
   "source": [
    "# model hyperparameters\n",
    "cuda = torch.cuda.is_available()\n",
    "DEVICE = torch.device(\"cuda\" if cuda else \"cpu\")\n",
    "\n",
    "batch_size = 30\n",
    "x_dim = 19\n",
    "hidden_dim = 256\n",
    "output_dim = 19\n",
    "\n",
    "lr = 1.0e-4\n",
    "epochs = 20\n",
    "\n"
   ]
  },
  {
   "cell_type": "markdown",
   "id": "4692ad4d",
   "metadata": {},
   "source": [
    "### Step 1. Load Dataset"
   ]
  },
  {
   "cell_type": "markdown",
   "id": "2d02f9be",
   "metadata": {},
   "source": [
    "get data from file"
   ]
  },
  {
   "cell_type": "code",
   "execution_count": 99,
   "id": "0a312489",
   "metadata": {},
   "outputs": [],
   "source": [
    "num_seeds = 30\n",
    "training_seed = 21\n",
    "seed = 0\n",
    "# Load fullstate\n",
    "data_fullstate = np.empty(num_seeds, dtype=object)\n",
    "data_no_joint_pos = np.empty(num_seeds, dtype=object)\n",
    "data_no_joint_vel = np.empty(num_seeds, dtype=object)\n",
    "data_no_action = np.empty(num_seeds, dtype=object)\n",
    "data_no_imu = np.empty(num_seeds, dtype=object)\n",
    "data_no_fc = np.empty(num_seeds, dtype=object)\n",
    "for i in range(num_seeds):\n",
    "    data_fullstate[i] = np.load(f\"data/HEBB-FULL-STATE_seed-{seed}-fullstate-rand-{i}.npz\")    \n",
    "    data_no_joint_pos[i] = np.load(f\"data/HEBB-FULL-STATE_seed-{seed}-no_joint_pos-rand-{i}.npz\")\n",
    "    data_no_joint_vel[i] = np.load(f\"data/HEBB-FULL-STATE_seed-{seed}-no_joint_vel-rand-{i}.npz\")\n",
    "    data_no_action[i] = np.load(f\"data/HEBB-FULL-STATE_seed-{seed}-no_action-rand-{i}.npz\")\n",
    "    data_no_imu[i] = np.load(f\"data/HEBB-FULL-STATE_seed-{seed}-no_imu-rand-{i}.npz\")\n",
    "    data_no_fc[i] = np.load(f\"data/HEBB-FULL-STATE_seed-{seed}-no_fc-rand-{i}.npz\")"
   ]
  },
  {
   "cell_type": "code",
   "execution_count": 101,
   "id": "085b1871",
   "metadata": {},
   "outputs": [],
   "source": [
    "all_state_dim = 64\n",
    "all_action_dim = 19\n",
    "\n",
    "state_dim = 64\n",
    "\n",
    "train_x = torch.empty((0, all_state_dim), dtype=torch.float32 ,device=DEVICE)\n",
    "train_y = torch.empty((0, all_action_dim), dtype=torch.float32,device=DEVICE)\n",
    "test_x = torch.empty((0, all_state_dim), dtype=torch.float32,device=DEVICE)\n",
    "test_y = torch.empty((0, all_action_dim), dtype=torch.float32,device=DEVICE)\n",
    "for i in range(training_seed):\n",
    "    train_x = torch.cat((train_x, torch.tensor(data_fullstate[i][\"state\"].reshape(data_fullstate[i][\"state\"].shape[0], -1), dtype=torch.float32,device=DEVICE)), dim=0)\n",
    "    train_y = torch.cat((train_y, torch.tensor(data_fullstate[i][\"action_lowpass\"].reshape(data_fullstate[i][\"action_lowpass\"].shape[0], -1), dtype=torch.float32,device=DEVICE)), dim=0)\n",
    "for j in range(training_seed, num_seeds):\n",
    "    test_x = torch.cat((test_x, torch.tensor(data_no_joint_pos[j][\"state\"].reshape(data_no_joint_pos[j][\"state\"].shape[0], -1), dtype=torch.float32,device=DEVICE)), dim=0)\n",
    "    test_y = torch.cat((test_y, torch.tensor(data_no_joint_pos[j][\"action_lowpass\"].reshape(data_no_joint_pos[j][\"action_lowpass\"].shape[0], -1), dtype=torch.float32,device=DEVICE)), dim=0)"
   ]
  },
  {
   "cell_type": "markdown",
   "id": "f70cd154",
   "metadata": {},
   "source": [
    "Converge to TensorDataset"
   ]
  },
  {
   "cell_type": "code",
   "execution_count": 102,
   "id": "632c462d",
   "metadata": {},
   "outputs": [
    {
     "name": "stdout",
     "output_type": "stream",
     "text": [
      "TRAIN : X , Y shape :  torch.Size([21000, 19]) torch.Size([21000, 19])\n",
      "TEST : X , Y shape :  torch.Size([9000, 19]) torch.Size([9000, 19])\n"
     ]
    }
   ],
   "source": [
    "state_index = torch.arange(0, 19)\n",
    "action_index = torch.arange(0 , 19)\n",
    "action_dim = output_dim\n",
    "state_dim = len(state_index)\n",
    "\n",
    "train_dataset = TensorDataset(train_x[:,state_index], train_y[:,action_index])\n",
    "test_dataset = TensorDataset(test_x[:,state_index], test_y[:,action_index])\n",
    "\n",
    "print(\"TRAIN : X , Y shape : \",train_x[:,state_index].shape , train_y.shape)\n",
    "print(\"TEST : X , Y shape : \",test_x[:,state_index].shape , test_y.shape)\n",
    "\n",
    "train_loader = DataLoader(train_dataset, batch_size=batch_size, shuffle=True)\n",
    "test_loader = DataLoader(test_dataset, batch_size=batch_size, shuffle=False)"
   ]
  },
  {
   "cell_type": "code",
   "execution_count": 103,
   "id": "da2bf393",
   "metadata": {},
   "outputs": [
    {
     "name": "stdout",
     "output_type": "stream",
     "text": [
      "TRAIN : X , Y shape :  torch.Size([21000, 19]) torch.Size([21000, 19])\n",
      "TEST : X , Y shape :  torch.Size([9000, 19]) torch.Size([9000, 19])\n"
     ]
    }
   ],
   "source": [
    "state_index = torch.arange(0, 19)\n",
    "action_dim = output_dim\n",
    "state_dim = len(state_index)\n",
    "\n",
    "train_dataset = TensorDataset(train_x[:,state_index], train_y[:,action_index])\n",
    "test_dataset = TensorDataset(test_x[:,state_index], test_y[:,action_index])\n",
    "\n",
    "print(\"TRAIN : X , Y shape : \",train_x[:,state_index].shape , train_y.shape)\n",
    "print(\"TEST : X , Y shape : \",test_x[:,state_index].shape , test_y.shape)\n",
    "\n",
    "train_loader = DataLoader(train_dataset, batch_size=batch_size, shuffle=True)\n",
    "test_loader = DataLoader(test_dataset, batch_size=batch_size, shuffle=False)"
   ]
  },
  {
   "cell_type": "markdown",
   "id": "91f5df69",
   "metadata": {},
   "source": [
    "Explore some data"
   ]
  },
  {
   "cell_type": "code",
   "execution_count": 110,
   "id": "ec8cda2b",
   "metadata": {},
   "outputs": [
    {
     "data": {
      "text/plain": [
       "(30,)"
      ]
     },
     "execution_count": 110,
     "metadata": {},
     "output_type": "execute_result"
    }
   ],
   "source": [
    "train_x[:, state_index].cpu().numpy()[:batch_size, 0].shape"
   ]
  },
  {
   "cell_type": "code",
   "execution_count": 105,
   "id": "96f9001a",
   "metadata": {},
   "outputs": [
    {
     "data": {
      "text/plain": [
       "<matplotlib.legend.Legend at 0x231ae0d3ec0>"
      ]
     },
     "execution_count": 105,
     "metadata": {},
     "output_type": "execute_result"
    },
    {
     "data": {
      "image/png": "[encoded data removed]",
      "text/plain": [
       "<Figure size 800x400 with 1 Axes>"
      ]
     },
     "metadata": {},
     "output_type": "display_data"
    }
   ],
   "source": [
    "plt.figure(figsize=(8, 4))\n",
    "plt.plot(train_x[:, state_index].cpu().numpy()[:batch_size, 0], label='Joint state')\n",
    "plt.plot(train_y.cpu().numpy()[:batch_size, 0], label='Joint action')\n",
    "plt.xlabel('Time step')\n",
    "plt.ylabel('joint value')\n",
    "plt.legend()"
   ]
  },
  {
   "cell_type": "markdown",
   "id": "1a7fb532",
   "metadata": {},
   "source": [
    "### Step 4. Training"
   ]
  },
  {
   "cell_type": "code",
   "execution_count": null,
   "id": "71672cb9",
   "metadata": {},
   "outputs": [],
   "source": []
  },
  {
   "cell_type": "code",
   "execution_count": 111,
   "id": "f524ef50",
   "metadata": {},
   "outputs": [
    {
     "name": "stdout",
     "output_type": "stream",
     "text": [
      "<built-in method size of Tensor object at 0x00000231AF6E81E0>\n",
      "Epoch 1/20 | Train Loss: 0.058963 | Test Loss: 0.470120\n",
      "<built-in method size of Tensor object at 0x00000231AF6E8960>\n",
      "Epoch 2/20 | Train Loss: 0.027112 | Test Loss: 0.553288\n",
      "<built-in method size of Tensor object at 0x00000231AF6E8550>\n",
      "Epoch 3/20 | Train Loss: 0.024563 | Test Loss: 0.603557\n",
      "<built-in method size of Tensor object at 0x00000231AF6E8EB0>\n",
      "Epoch 4/20 | Train Loss: 0.023293 | Test Loss: 0.637588\n",
      "<built-in method size of Tensor object at 0x00000231AF6E8E60>\n",
      "Epoch 5/20 | Train Loss: 0.022315 | Test Loss: 0.654278\n"
     ]
    },
    {
     "ename": "KeyboardInterrupt",
     "evalue": "",
     "output_type": "error",
     "traceback": [
      "\u001b[31m---------------------------------------------------------------------------\u001b[39m",
      "\u001b[31mKeyboardInterrupt\u001b[39m                         Traceback (most recent call last)",
      "\u001b[36mCell\u001b[39m\u001b[36m \u001b[39m\u001b[32mIn[111]\u001b[39m\u001b[32m, line 37\u001b[39m\n\u001b[32m     34\u001b[39m y_batch = y_batch.to(DEVICE)\n\u001b[32m     36\u001b[39m optimizer.zero_grad()\n\u001b[32m---> \u001b[39m\u001b[32m37\u001b[39m pred = \u001b[43mmodel\u001b[49m\u001b[43m(\u001b[49m\u001b[43mx_batch\u001b[49m\u001b[43m)\u001b[49m\n\u001b[32m     38\u001b[39m loss = criterion(pred, y_batch)\n\u001b[32m     39\u001b[39m loss.backward()\n",
      "\u001b[36mFile \u001b[39m\u001b[32me:\\FIBO\\internship\\thesis_vistec\\locomotion_learning_information-theory\\.venv\\Lib\\site-packages\\torch\\nn\\modules\\module.py:1751\u001b[39m, in \u001b[36mModule._wrapped_call_impl\u001b[39m\u001b[34m(self, *args, **kwargs)\u001b[39m\n\u001b[32m   1749\u001b[39m     \u001b[38;5;28;01mreturn\u001b[39;00m \u001b[38;5;28mself\u001b[39m._compiled_call_impl(*args, **kwargs)  \u001b[38;5;66;03m# type: ignore[misc]\u001b[39;00m\n\u001b[32m   1750\u001b[39m \u001b[38;5;28;01melse\u001b[39;00m:\n\u001b[32m-> \u001b[39m\u001b[32m1751\u001b[39m     \u001b[38;5;28;01mreturn\u001b[39;00m \u001b[38;5;28;43mself\u001b[39;49m\u001b[43m.\u001b[49m\u001b[43m_call_impl\u001b[49m\u001b[43m(\u001b[49m\u001b[43m*\u001b[49m\u001b[43margs\u001b[49m\u001b[43m,\u001b[49m\u001b[43m \u001b[49m\u001b[43m*\u001b[49m\u001b[43m*\u001b[49m\u001b[43mkwargs\u001b[49m\u001b[43m)\u001b[49m\n",
      "\u001b[36mFile \u001b[39m\u001b[32me:\\FIBO\\internship\\thesis_vistec\\locomotion_learning_information-theory\\.venv\\Lib\\site-packages\\torch\\nn\\modules\\module.py:1762\u001b[39m, in \u001b[36mModule._call_impl\u001b[39m\u001b[34m(self, *args, **kwargs)\u001b[39m\n\u001b[32m   1757\u001b[39m \u001b[38;5;66;03m# If we don't have any hooks, we want to skip the rest of the logic in\u001b[39;00m\n\u001b[32m   1758\u001b[39m \u001b[38;5;66;03m# this function, and just call forward.\u001b[39;00m\n\u001b[32m   1759\u001b[39m \u001b[38;5;28;01mif\u001b[39;00m \u001b[38;5;129;01mnot\u001b[39;00m (\u001b[38;5;28mself\u001b[39m._backward_hooks \u001b[38;5;129;01mor\u001b[39;00m \u001b[38;5;28mself\u001b[39m._backward_pre_hooks \u001b[38;5;129;01mor\u001b[39;00m \u001b[38;5;28mself\u001b[39m._forward_hooks \u001b[38;5;129;01mor\u001b[39;00m \u001b[38;5;28mself\u001b[39m._forward_pre_hooks\n\u001b[32m   1760\u001b[39m         \u001b[38;5;129;01mor\u001b[39;00m _global_backward_pre_hooks \u001b[38;5;129;01mor\u001b[39;00m _global_backward_hooks\n\u001b[32m   1761\u001b[39m         \u001b[38;5;129;01mor\u001b[39;00m _global_forward_hooks \u001b[38;5;129;01mor\u001b[39;00m _global_forward_pre_hooks):\n\u001b[32m-> \u001b[39m\u001b[32m1762\u001b[39m     \u001b[38;5;28;01mreturn\u001b[39;00m \u001b[43mforward_call\u001b[49m\u001b[43m(\u001b[49m\u001b[43m*\u001b[49m\u001b[43margs\u001b[49m\u001b[43m,\u001b[49m\u001b[43m \u001b[49m\u001b[43m*\u001b[49m\u001b[43m*\u001b[49m\u001b[43mkwargs\u001b[49m\u001b[43m)\u001b[49m\n\u001b[32m   1764\u001b[39m result = \u001b[38;5;28;01mNone\u001b[39;00m\n\u001b[32m   1765\u001b[39m called_always_called_hooks = \u001b[38;5;28mset\u001b[39m()\n",
      "\u001b[36mCell\u001b[39m\u001b[36m \u001b[39m\u001b[32mIn[111]\u001b[39m\u001b[32m, line 18\u001b[39m, in \u001b[36mPredictor.forward\u001b[39m\u001b[34m(self, x)\u001b[39m\n\u001b[32m     16\u001b[39m \u001b[38;5;28;01mdef\u001b[39;00m\u001b[38;5;250m \u001b[39m\u001b[34mforward\u001b[39m(\u001b[38;5;28mself\u001b[39m, x):\n\u001b[32m     17\u001b[39m     h = \u001b[38;5;28mself\u001b[39m.tanh(\u001b[38;5;28mself\u001b[39m.FC_input(x))\n\u001b[32m---> \u001b[39m\u001b[32m18\u001b[39m     h = \u001b[38;5;28;43mself\u001b[39;49m\u001b[43m.\u001b[49m\u001b[43mtanh\u001b[49m\u001b[43m(\u001b[49m\u001b[38;5;28;43mself\u001b[39;49m\u001b[43m.\u001b[49m\u001b[43mFC_input2\u001b[49m\u001b[43m(\u001b[49m\u001b[43mh\u001b[49m\u001b[43m)\u001b[49m\u001b[43m)\u001b[49m\n\u001b[32m     19\u001b[39m     out = \u001b[38;5;28mself\u001b[39m.FC_output(h)\n\u001b[32m     20\u001b[39m     \u001b[38;5;28;01mreturn\u001b[39;00m out\n",
      "\u001b[36mFile \u001b[39m\u001b[32me:\\FIBO\\internship\\thesis_vistec\\locomotion_learning_information-theory\\.venv\\Lib\\site-packages\\torch\\nn\\modules\\module.py:1751\u001b[39m, in \u001b[36mModule._wrapped_call_impl\u001b[39m\u001b[34m(self, *args, **kwargs)\u001b[39m\n\u001b[32m   1749\u001b[39m     \u001b[38;5;28;01mreturn\u001b[39;00m \u001b[38;5;28mself\u001b[39m._compiled_call_impl(*args, **kwargs)  \u001b[38;5;66;03m# type: ignore[misc]\u001b[39;00m\n\u001b[32m   1750\u001b[39m \u001b[38;5;28;01melse\u001b[39;00m:\n\u001b[32m-> \u001b[39m\u001b[32m1751\u001b[39m     \u001b[38;5;28;01mreturn\u001b[39;00m \u001b[38;5;28;43mself\u001b[39;49m\u001b[43m.\u001b[49m\u001b[43m_call_impl\u001b[49m\u001b[43m(\u001b[49m\u001b[43m*\u001b[49m\u001b[43margs\u001b[49m\u001b[43m,\u001b[49m\u001b[43m \u001b[49m\u001b[43m*\u001b[49m\u001b[43m*\u001b[49m\u001b[43mkwargs\u001b[49m\u001b[43m)\u001b[49m\n",
      "\u001b[36mFile \u001b[39m\u001b[32me:\\FIBO\\internship\\thesis_vistec\\locomotion_learning_information-theory\\.venv\\Lib\\site-packages\\torch\\nn\\modules\\module.py:1762\u001b[39m, in \u001b[36mModule._call_impl\u001b[39m\u001b[34m(self, *args, **kwargs)\u001b[39m\n\u001b[32m   1757\u001b[39m \u001b[38;5;66;03m# If we don't have any hooks, we want to skip the rest of the logic in\u001b[39;00m\n\u001b[32m   1758\u001b[39m \u001b[38;5;66;03m# this function, and just call forward.\u001b[39;00m\n\u001b[32m   1759\u001b[39m \u001b[38;5;28;01mif\u001b[39;00m \u001b[38;5;129;01mnot\u001b[39;00m (\u001b[38;5;28mself\u001b[39m._backward_hooks \u001b[38;5;129;01mor\u001b[39;00m \u001b[38;5;28mself\u001b[39m._backward_pre_hooks \u001b[38;5;129;01mor\u001b[39;00m \u001b[38;5;28mself\u001b[39m._forward_hooks \u001b[38;5;129;01mor\u001b[39;00m \u001b[38;5;28mself\u001b[39m._forward_pre_hooks\n\u001b[32m   1760\u001b[39m         \u001b[38;5;129;01mor\u001b[39;00m _global_backward_pre_hooks \u001b[38;5;129;01mor\u001b[39;00m _global_backward_hooks\n\u001b[32m   1761\u001b[39m         \u001b[38;5;129;01mor\u001b[39;00m _global_forward_hooks \u001b[38;5;129;01mor\u001b[39;00m _global_forward_pre_hooks):\n\u001b[32m-> \u001b[39m\u001b[32m1762\u001b[39m     \u001b[38;5;28;01mreturn\u001b[39;00m \u001b[43mforward_call\u001b[49m\u001b[43m(\u001b[49m\u001b[43m*\u001b[49m\u001b[43margs\u001b[49m\u001b[43m,\u001b[49m\u001b[43m \u001b[49m\u001b[43m*\u001b[49m\u001b[43m*\u001b[49m\u001b[43mkwargs\u001b[49m\u001b[43m)\u001b[49m\n\u001b[32m   1764\u001b[39m result = \u001b[38;5;28;01mNone\u001b[39;00m\n\u001b[32m   1765\u001b[39m called_always_called_hooks = \u001b[38;5;28mset\u001b[39m()\n",
      "\u001b[36mFile \u001b[39m\u001b[32me:\\FIBO\\internship\\thesis_vistec\\locomotion_learning_information-theory\\.venv\\Lib\\site-packages\\torch\\nn\\modules\\activation.py:392\u001b[39m, in \u001b[36mTanh.forward\u001b[39m\u001b[34m(self, input)\u001b[39m\n\u001b[32m    391\u001b[39m \u001b[38;5;28;01mdef\u001b[39;00m\u001b[38;5;250m \u001b[39m\u001b[34mforward\u001b[39m(\u001b[38;5;28mself\u001b[39m, \u001b[38;5;28minput\u001b[39m: Tensor) -> Tensor:\n\u001b[32m--> \u001b[39m\u001b[32m392\u001b[39m     \u001b[38;5;28;01mreturn\u001b[39;00m \u001b[43mtorch\u001b[49m\u001b[43m.\u001b[49m\u001b[43mtanh\u001b[49m\u001b[43m(\u001b[49m\u001b[38;5;28;43minput\u001b[39;49m\u001b[43m)\u001b[49m\n",
      "\u001b[31mKeyboardInterrupt\u001b[39m: "
     ]
    }
   ],
   "source": [
    "import torch\n",
    "import torch.nn as nn\n",
    "from torch.utils.data import DataLoader, TensorDataset\n",
    "from torch.optim import Adam\n",
    "\n",
    "# ----- Model -----\n",
    "class Predictor(nn.Module):\n",
    "    def __init__(self, input_dim, hidden_dim, output_dim):\n",
    "        super(Predictor, self).__init__()\n",
    "        self.FC_input = nn.Linear(input_dim, hidden_dim)\n",
    "        self.FC_input2 = nn.Linear(hidden_dim, hidden_dim)\n",
    "        self.FC_output  = nn.Linear(hidden_dim, output_dim)\n",
    "        self.tanh = nn.Tanh()\n",
    "        self.LeakyReLU = nn.LeakyReLU(0.2)\n",
    "\n",
    "    def forward(self, x):\n",
    "        h = self.tanh(self.FC_input(x))\n",
    "        h = self.tanh(self.FC_input2(h))\n",
    "        out = self.FC_output(h)\n",
    "        return out\n",
    "\n",
    "# ----- Create Model -----\n",
    "model = Predictor(input_dim=state_dim, hidden_dim=hidden_dim, output_dim=output_dim).to(DEVICE)\n",
    "criterion = nn.MSELoss()\n",
    "optimizer = Adam(model.parameters(), lr=lr)\n",
    "\n",
    "# ----- Training Loop -----\n",
    "for epoch in range(epochs):\n",
    "    model.train()\n",
    "    total_loss = 0.0\n",
    "\n",
    "    for x_batch, y_batch in train_loader:\n",
    "        x_batch = x_batch.to(DEVICE)\n",
    "        y_batch = y_batch.to(DEVICE)\n",
    "\n",
    "        optimizer.zero_grad()\n",
    "        pred = model(x_batch)\n",
    "        loss = criterion(pred, y_batch)\n",
    "        loss.backward()\n",
    "        optimizer.step()\n",
    "\n",
    "        total_loss += loss.item() * x_batch.size(0)\n",
    "\n",
    "    avg_loss = total_loss / len(train_dataset)\n",
    "\n",
    "    # ----- Evaluate -----\n",
    "    model.eval()\n",
    "    total_test_loss = 0.0\n",
    "    with torch.no_grad():\n",
    "        for x_batch, y_batch in test_loader:\n",
    "            x_batch = x_batch.to(DEVICE)\n",
    "            y_batch = y_batch.to(DEVICE)\n",
    "            pred = model(x_batch)\n",
    "            total_test_loss += criterion(pred, y_batch).item() * x_batch.size(0)\n",
    "    avg_test_loss = total_test_loss / len(test_dataset)\n",
    "\n",
    "    print(f\"Epoch {epoch+1}/{epochs} | Train Loss: {avg_loss:.6f} | Test Loss: {avg_test_loss:.6f}\")\n"
   ]
  },
  {
   "cell_type": "code",
   "execution_count": 107,
   "id": "c2b5de8b",
   "metadata": {},
   "outputs": [
    {
     "name": "stdout",
     "output_type": "stream",
     "text": [
      "Epoch 20/20 | Train Loss: 0.016176 | Test Loss (MSE): 0.688321\n",
      "  MAE per output:  [0.84350073 0.8935508  0.7950495  0.6796407  0.83454216 0.7746099\n",
      " 0.7029417  0.41856918 0.66997105 0.21322262 0.47381455 0.68402267\n",
      " 0.8436141  0.8479721  0.80414695 0.7101598  0.6153013  0.18681838\n",
      " 0.7604641 ]\n",
      "  RMSE per output: [1.013513   1.063739   0.95541096 0.8206594  0.9984086  0.9271928\n",
      " 0.8168324  0.45498425 0.7897599  0.24935484 0.5297705  0.8207338\n",
      " 1.0138011  0.9919545  0.96122265 0.851445   0.69387716 0.22865683\n",
      " 0.8762039 ]\n",
      "  R2 per output:   [-0.7016212  -0.86107445 -0.4521258  -1.351188   -1.1847751  -1.1286993\n",
      " -1.2816057  -2.722101   -1.7193091  -0.59228635 -3.8716145  -0.91713846\n",
      " -1.186831   -1.1762154  -1.6078577  -0.53538144 -0.39743018 -0.02374947\n",
      " -0.32160962]\n"
     ]
    }
   ],
   "source": [
    "# ----- Evaluate -----\n",
    "model.eval()\n",
    "total_test_loss = 0.0\n",
    "preds_list, targets_list = [], []\n",
    "\n",
    "with torch.no_grad():\n",
    "    for x_batch, y_batch in test_loader:\n",
    "        x_batch = x_batch.to(DEVICE)\n",
    "        y_batch = y_batch.to(DEVICE)\n",
    "        pred = model(x_batch)\n",
    "        total_test_loss += criterion(pred, y_batch).item() * x_batch.size(0)\n",
    "\n",
    "        preds_list.append(pred.cpu().numpy())\n",
    "        targets_list.append(y_batch.cpu().numpy())\n",
    "\n",
    "avg_test_loss = total_test_loss / len(test_dataset)\n",
    "\n",
    "# Convert all predictions and targets\n",
    "preds_all = np.vstack(preds_list)\n",
    "targets_all = np.vstack(targets_list)\n",
    "\n",
    "# ---- Metrics ----\n",
    "mse = np.mean((preds_all - targets_all)**2, axis=0)           # per output\n",
    "rmse = np.sqrt(mse)\n",
    "mae = np.mean(np.abs(preds_all - targets_all), axis=0)\n",
    "ss_res = np.sum((targets_all - preds_all) ** 2, axis=0)\n",
    "ss_tot = np.sum((targets_all - np.mean(targets_all, axis=0)) ** 2, axis=0)\n",
    "r2 = 1 - ss_res / ss_tot\n",
    "\n",
    "print(f\"Epoch {epoch+1}/{epochs} | Train Loss: {avg_loss:.6f} | Test Loss (MSE): {avg_test_loss:.6f}\")\n",
    "print(f\"  MAE per output:  {mae}\")\n",
    "print(f\"  RMSE per output: {rmse}\")\n",
    "print(f\"  R2 per output:   {r2}\")"
   ]
  },
  {
   "cell_type": "code",
   "execution_count": 108,
   "id": "977ba5be",
   "metadata": {},
   "outputs": [
    {
     "name": "stdout",
     "output_type": "stream",
     "text": [
      "tensor([ 0.5999,  0.5993,  0.5597, -0.7993, -0.6781,  0.3713,  0.6201, -0.1659,\n",
      "        -0.4624, -0.3173, -0.2125,  0.5375,  0.5930, -0.4817, -0.5108, -0.5731,\n",
      "        -0.3658,  0.5466, -0.4000], device='cuda:0', grad_fn=<ViewBackward0>)\n",
      "tensor([ 0.5695,  0.5032,  0.5652, -0.5613, -0.4884,  0.5435,  0.5483, -0.4384,\n",
      "        -0.5652, -0.5477, -0.1636,  0.2945, -0.4256, -0.5695, -0.5695, -0.4389,\n",
      "         0.4527,  0.5644, -0.2201], device='cuda:0')\n"
     ]
    }
   ],
   "source": [
    "idx = 8\n",
    "print((model(test_x[idx , state_index])))\n",
    "print((test_y[idx , state_index]))"
   ]
  },
  {
   "cell_type": "code",
   "execution_count": 109,
   "id": "105f53e1",
   "metadata": {},
   "outputs": [
    {
     "name": "stdout",
     "output_type": "stream",
     "text": [
      "tensor([ 0.4719,  0.4734,  0.4435, -0.4570, -0.4386,  0.3393,  0.4811, -0.1820,\n",
      "        -0.4494, -0.3842, -0.1138,  0.2417,  0.3455, -0.3076, -0.4523, -0.4465,\n",
      "        -0.0485,  0.2425, -0.3880], device='cuda:0', grad_fn=<ViewBackward0>)\n",
      "tensor([ 0.6126,  0.6125,  0.6128, -0.5997, -0.6120,  0.3453,  0.6025, -0.1968,\n",
      "        -0.4524, -0.4091, -0.0757,  0.3082,  0.4745, -0.3563, -0.6127, -0.6114,\n",
      "        -0.3848,  0.2544, -0.6108], device='cuda:0')\n"
     ]
    }
   ],
   "source": [
    "idx = 9\n",
    "print((model(train_x[idx , state_index])))\n",
    "print((train_y[idx , state_index]))"
   ]
  }
 ],
 "metadata": {
  "kernelspec": {
   "display_name": ".venv",
   "language": "python",
   "name": "python3"
  },
  "language_info": {
   "codemirror_mode": {
    "name": "ipython",
    "version": 3
   },
   "file_extension": ".py",
   "mimetype": "text/x-python",
   "name": "python",
   "nbconvert_exporter": "python",
   "pygments_lexer": "ipython3",
   "version": "3.10.12"
  }
 },
 "nbformat": 4,
 "nbformat_minor": 5
}
