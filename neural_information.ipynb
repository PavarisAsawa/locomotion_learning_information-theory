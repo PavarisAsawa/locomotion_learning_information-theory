{
 "cells": [
  {
   "cell_type": "markdown",
   "id": "17e0078e",
   "metadata": {},
   "source": [
    "# Visualize PCA of weight, activity and Estimates MI from data"
   ]
  },
  {
   "cell_type": "markdown",
   "id": "7be5c2d4",
   "metadata": {},
   "source": [
    "## Import lib"
   ]
  },
  {
   "cell_type": "code",
   "execution_count": 116,
   "id": "9e8ab800",
   "metadata": {},
   "outputs": [],
   "source": [
    "import torch\n",
    "import torch.nn as nn\n",
    "from torch.utils.data import DataLoader , TensorDataset\n",
    "from torchvision.utils import save_image, make_grid\n",
    "from torch.optim import Adam\n",
    "import torch.nn.init as init\n",
    "\n",
    "import numpy as np\n",
    "import math\n",
    "\n",
    "import matplotlib.pyplot as plt\n",
    "from matplotlib.ticker import MaxNLocator\n",
    "from matplotlib.ticker import MultipleLocator\n",
    "import matplotlib.cm as cm\n",
    "\n",
    "import copy\n",
    "import seaborn as sns\n",
    "\n",
    "from scipy.stats import norm\n",
    "from sklearn.neighbors import KernelDensity, LocalOutlierFactor\n",
    "from sklearn.decomposition import PCA\n",
    "\n",
    "import tqdm\n",
    "\n",
    "import pickle\n",
    "\n",
    "# MI estimators\n",
    "from utils.estimators import *"
   ]
  },
  {
   "cell_type": "markdown",
   "id": "90f6e64d",
   "metadata": {},
   "source": [
    "## Load data"
   ]
  },
  {
   "cell_type": "code",
   "execution_count": 193,
   "id": "c251c2cf",
   "metadata": {},
   "outputs": [],
   "source": [
    "with open(\"data/weight_dynamic/HEBB-FULL_STATE-seed_0-rand-0.pkl\", \"rb\") as f:\n",
    "    loaded_buffer = pickle.load(f)\n",
    "with open(\"data/weight_dynamic/MORPH-HEBB-FULL_STATE-seed_0-rand-0.pkl\", \"rb\") as m:\n",
    "    loaded_morph = pickle.load(m)"
   ]
  },
  {
   "cell_type": "code",
   "execution_count": 194,
   "id": "49adba19",
   "metadata": {},
   "outputs": [],
   "source": [
    "def reshape_input_output(val):\n",
    "    '''\n",
    "    Input dim : [timestep , np:[1,dim] ]\n",
    "    Return dim : np: [timestep , dim]\n",
    "    '''\n",
    "    for i in range(len(val)):\n",
    "        val[i] = val[i].reshape(-1)\n",
    "    return np.array(val)"
   ]
  },
  {
   "cell_type": "code",
   "execution_count": 195,
   "id": "3222f687",
   "metadata": {},
   "outputs": [],
   "source": [
    "def select_activity_layer(activity,selected_layer):\n",
    "    '''\n",
    "    Input dim : [timestep][layer]\n",
    "    Return dim : np: [timestep , dim]\n",
    "    '''\n",
    "    buff = []\n",
    "    for t in range(len(activity)):\n",
    "        layer = activity[t][selected_layer]\n",
    "        buff.append(layer.reshape(-1) if isinstance(layer, np.ndarray) else layer.numpy().reshape(-1))\n",
    "    return np.array(buff , dtype=object)"
   ]
  },
  {
   "cell_type": "code",
   "execution_count": 196,
   "id": "601cad12",
   "metadata": {},
   "outputs": [],
   "source": [
    "def select_weight_layer(weight,selected_layer):\n",
    "    '''\n",
    "    Input dim : [timestep][layer]\n",
    "    Return dim : np: [timestep , dim]\n",
    "    '''\n",
    "    buff = []\n",
    "    for t in range(len(weight)):\n",
    "        _b = weight[t][selected_layer][0]\n",
    "        buff.append(_b if isinstance(_b, np.ndarray) else _b.numpy())\n",
    "    return np.array(buff , dtype=object)"
   ]
  },
  {
   "cell_type": "markdown",
   "id": "f23fb2c3",
   "metadata": {},
   "source": [
    "Load Normal"
   ]
  },
  {
   "cell_type": "code",
   "execution_count": 197,
   "id": "9a4128c1",
   "metadata": {},
   "outputs": [],
   "source": [
    "activity    = loaded_buffer[\"brain\"][\"activity\"]              # [timestep][layer_n][ 1 , hidden_dim]\n",
    "weight      = loaded_buffer[\"brain\"][\"weight\"]                # [timestep][layer_n][ 1 , 64 , 128]\n",
    "input       = reshape_input_output(loaded_buffer[\"data\"][\"state\"])           # [timestep][1 , all_observation] ---reshape---> [timestep, all_obs]\n",
    "act_hid_1   = select_activity_layer(activity , 0)             # [timestep][layer_n][1 , hidden_dim] ---reshape---> [timestep, num_dim_of_selected_layer]\n",
    "act_hid_2   = select_activity_layer(activity , 1)\n",
    "weight_hid_1 = select_weight_layer(weight,0)\n",
    "weight_hid_2 = select_weight_layer(weight,1)\n",
    "weight_hid_3 = select_weight_layer(weight,2)\n",
    "output      = reshape_input_output(loaded_buffer[\"data\"][\"action\"])          # [timestep][1 , all_observation] ---reshape---> [timestep, all_obs]"
   ]
  },
  {
   "cell_type": "markdown",
   "id": "7538de53",
   "metadata": {},
   "source": [
    "Load Morph"
   ]
  },
  {
   "cell_type": "code",
   "execution_count": 198,
   "id": "b74a96df",
   "metadata": {},
   "outputs": [],
   "source": [
    "m_activity    = loaded_morph[\"brain\"][\"activity\"]              # [timestep][layer_n][ 1 , hidden_dim]\n",
    "m_weight      = loaded_morph[\"brain\"][\"weight\"]                # [timestep][layer_n][ 1 , 64 , 128]\n",
    "m_input       = reshape_input_output(loaded_morph[\"data\"][\"state\"])           # [timestep][1 , all_observation] ---reshape---> [timestep, all_obs]\n",
    "m_act_hid_1   = select_activity_layer(m_activity , 0)             # [timestep][layer_n][1 , hidden_dim] ---reshape---> [timestep, num_dim_of_selected_layer]\n",
    "m_act_hid_2   = select_activity_layer(m_activity , 1)\n",
    "m_weight_hid_1 = select_weight_layer(m_weight,0)\n",
    "m_weight_hid_2 = select_weight_layer(m_weight,1)\n",
    "m_weight_hid_3 = select_weight_layer(m_weight,2)\n",
    "m_output      = reshape_input_output(loaded_morph[\"data\"][\"action\"])          # [timestep][1 , all_observation] ---reshape---> [timestep, all_obs]"
   ]
  },
  {
   "cell_type": "markdown",
   "id": "b96ba6a2",
   "metadata": {},
   "source": [
    "## Activity\n"
   ]
  },
  {
   "cell_type": "markdown",
   "id": "d2d72877",
   "metadata": {},
   "source": [
    "- `Activity` : \n",
    "    - FROM : [timestep][layer][? numpy + tensor]\n",
    "    - TO   : [timestep, num_dim_of_selected_layer]\n",
    "\n",
    "- `INPUT / OUTPUT` : \n",
    "    - FROM : [timestep][1 , all_observation]\n",
    "    - TO : [timestep , dim]\n"
   ]
  },
  {
   "cell_type": "markdown",
   "id": "3a0c87e9",
   "metadata": {},
   "source": [
    "### Measuring information : INPUT Hidden 1"
   ]
  },
  {
   "cell_type": "markdown",
   "id": "7b3676c6",
   "metadata": {},
   "source": [
    "#### Binning"
   ]
  },
  {
   "cell_type": "code",
   "execution_count": null,
   "id": "bff90872",
   "metadata": {},
   "outputs": [],
   "source": [
    "# Create the first histogram\n",
    "state_count, state_bound, state_bar = plt.hist(input[:, 0].ravel(), bins=30, range=[-1, 1], alpha=0.6, label='State')\n",
    "plt.xlabel('Value')\n",
    "plt.ylabel('Frequency')\n",
    "plt.legend()\n",
    "plt.show()\n",
    "act_hid_1_count, act_hid_1_bound, act_hid_1_bar = plt.hist(act_hid_1.ravel(), bins=30, range=[-1, 1], alpha=0.6, label='Action Hidden 1',color='m')\n",
    "plt.xlabel('Value')\n",
    "plt.ylabel('Frequency')\n",
    "plt.legend()\n",
    "plt.show()\n",
    "act_hid_2_count, act_hid_2_bound, act_hid_2_bar = plt.hist(act_hid_2.ravel(), bins=30, range=[-1, 1], alpha=0.6, label='Action Hidden 1',color='m')\n",
    "plt.xlabel('Value')\n",
    "plt.ylabel('Frequency')\n",
    "plt.legend()\n",
    "plt.show()"
   ]
  },
  {
   "cell_type": "code",
   "execution_count": null,
   "id": "2dc52498",
   "metadata": {},
   "outputs": [],
   "source": [
    "mutual_information_binning(state_count , act_hid_2_count , bins=30)"
   ]
  },
  {
   "cell_type": "markdown",
   "id": "f0523a64",
   "metadata": {},
   "source": [
    "## PCA of HIDDEN LAYER"
   ]
  },
  {
   "cell_type": "code",
   "execution_count": 199,
   "id": "b21cc8e5",
   "metadata": {},
   "outputs": [],
   "source": [
    "def PCA_plot3D_single(pca):\n",
    "    # Create a 3D scatter plot\n",
    "    fig = plt.figure()\n",
    "    ax = fig.add_subplot(111, projection='3d')\n",
    "    # Plot the transformed data\n",
    "    ax.scatter(pca[:, 0], pca[:, 1], pca[:, 2], label='w_hid1_flat', c='r', marker='o' ,s=10)\n",
    "    # Labels and title\n",
    "    ax.set_xlabel('PCA Component 1')\n",
    "    ax.set_ylabel('PCA Component 2')\n",
    "    ax.set_zlabel('PCA Component 3')\n",
    "    ax.set_title('PCA')\n",
    "    # Show legend\n",
    "    ax.legend()\n",
    "    # Show plot\n",
    "    plt.show()"
   ]
  },
  {
   "cell_type": "code",
   "execution_count": 200,
   "id": "4b6d49fe",
   "metadata": {},
   "outputs": [],
   "source": [
    "def PCA_plot3D_three(pca1,pca2,pca3):\n",
    "    # Create a figure with 3 subplots (1 row, 3 columns)\n",
    "    fig = plt.figure(figsize=(15, 5))\n",
    "\n",
    "    # First subplot (for w_hid1_flat)\n",
    "    ax1 = fig.add_subplot(131, projection='3d')\n",
    "    ax1.scatter(pca1[:, 0], pca1[:, 1], pca1[:, 2], c='r', marker='o', s=10)\n",
    "    ax1.set_xlabel('PCA Component 1')\n",
    "    ax1.set_ylabel('PCA Component 2')\n",
    "    ax1.set_zlabel('PCA Component 3')\n",
    "    ax1.set_title('PCA data 1')\n",
    "\n",
    "    # Second subplot (for w_hid2_flat)\n",
    "    ax2 = fig.add_subplot(132, projection='3d')\n",
    "    ax2.scatter(pca2[:, 0], pca2[:, 1], pca2[:, 2], c='g', marker='o', s=10)\n",
    "    ax2.set_xlabel('PCA Component 1')\n",
    "    ax2.set_ylabel('PCA Component 2')\n",
    "    ax2.set_zlabel('PCA Component 3')\n",
    "    ax2.set_title('PCA data 2')\n",
    "\n",
    "    # Third subplot (for w_hid3_flat)\n",
    "    ax3 = fig.add_subplot(133, projection='3d')\n",
    "    ax3.scatter(pca3[:, 0], pca3[:, 1], pca3[:, 2], c='b', marker='o', s=10)\n",
    "    ax3.set_xlabel('PCA Component 1')\n",
    "    ax3.set_ylabel('PCA Component 2')\n",
    "    ax3.set_zlabel('PCA Component 3')\n",
    "    ax3.set_title('PCA data 3')\n",
    "\n",
    "    # Show the plot\n",
    "    plt.tight_layout()  # Adjust layout to prevent overlap\n",
    "    plt.show()"
   ]
  },
  {
   "cell_type": "code",
   "execution_count": 201,
   "id": "55b39365",
   "metadata": {},
   "outputs": [],
   "source": [
    "def PCA_plot3D_3in1(pca1 , pca2 , pca3):\n",
    "    # Create a 3D scatter plot\n",
    "    fig = plt.figure()\n",
    "    ax = fig.add_subplot(111, projection='3d')\n",
    "\n",
    "    # Plot the transformed data\n",
    "    ax.scatter(pca1[:, 0], pca1[:, 1], pca1[:, 2], label='pca1', c='r', marker='o' ,s=10)\n",
    "    ax.scatter(pca2[:, 0], pca2[:, 1], pca2[:, 2], label='pca2', c='g', marker='o', s=10)\n",
    "    ax.scatter(pca3[:, 0], pca3[:, 1], pca3[:, 2], label='w_hid3_flat', c='b', marker='o', s=10)\n",
    "\n",
    "    # Labels and title\n",
    "    ax.set_xlabel('PCA Component 1')\n",
    "    ax.set_ylabel('PCA Component 2')\n",
    "    ax.set_zlabel('PCA Component 3')\n",
    "    ax.set_title('PCA')\n",
    "    # Show legend\n",
    "    ax.legend()\n",
    "    # Show plot\n",
    "    plt.show()"
   ]
  },
  {
   "cell_type": "code",
   "execution_count": 202,
   "id": "22f54639",
   "metadata": {},
   "outputs": [],
   "source": [
    "def PCA_plot3D_two(pca1,pca2):\n",
    "    # Create a figure with 3 subplots (1 row, 3 columns)\n",
    "    fig = plt.figure(figsize=(15, 5))\n",
    "\n",
    "    # First subplot (for w_hid1_flat)\n",
    "    ax1 = fig.add_subplot(121, projection='3d')\n",
    "    ax1.scatter(pca1[:, 0], pca1[:, 1], pca1[:, 2], c='r', marker='o', s=10)\n",
    "    ax1.set_xlabel('PCA Component 1')\n",
    "    ax1.set_ylabel('PCA Component 2')\n",
    "    ax1.set_zlabel('PCA Component 3')\n",
    "    ax1.set_title('PCA data 1')\n",
    "\n",
    "    # Second subplot (for w_hid2_flat)\n",
    "    ax2 = fig.add_subplot(122, projection='3d')\n",
    "    ax2.scatter(pca2[:, 0], pca2[:, 1], pca2[:, 2], c='g', marker='o', s=10)\n",
    "    ax2.set_xlabel('PCA Component 1')\n",
    "    ax2.set_ylabel('PCA Component 2')\n",
    "    ax2.set_zlabel('PCA Component 3')\n",
    "    ax2.set_title('PCA data 2')\n",
    "    # Show the plot\n",
    "    plt.tight_layout()  # Adjust layout to prevent overlap\n",
    "    plt.show()"
   ]
  },
  {
   "cell_type": "markdown",
   "id": "52f2dff5",
   "metadata": {},
   "source": [
    "Normal PCA"
   ]
  },
  {
   "cell_type": "code",
   "execution_count": 203,
   "id": "89a3ab0a",
   "metadata": {},
   "outputs": [],
   "source": [
    "pca = PCA(n_components=3)\n",
    "\n",
    "w_hid1_flat = weight_hid_1.reshape(weight_hid_1.shape[0] , -1)\n",
    "w_hid2_flat = weight_hid_2.reshape(weight_hid_2.shape[0] , -1)\n",
    "w_hid3_flat = weight_hid_3.reshape(weight_hid_3.shape[0] , -1)\n",
    "w_all_flat  = np.hstack((w_hid1_flat,w_hid2_flat,w_hid3_flat))\n",
    "\n",
    "w1_pca = pca.fit_transform(w_hid1_flat)\n",
    "w2_pca = pca.fit_transform(w_hid2_flat)\n",
    "w3_pca = pca.fit_transform(w_hid3_flat)\n",
    "w_pca  = pca.fit_transform(w_all_flat)"
   ]
  },
  {
   "cell_type": "markdown",
   "id": "4c811ef6",
   "metadata": {},
   "source": [
    "# Zeroout weight\n"
   ]
  }
 ],
 "metadata": {
  "kernelspec": {
   "display_name": ".venv",
   "language": "python",
   "name": "python3"
  },
  "language_info": {
   "codemirror_mode": {
    "name": "ipython",
    "version": 3
   },
   "file_extension": ".py",
   "mimetype": "text/x-python",
   "name": "python",
   "nbconvert_exporter": "python",
   "pygments_lexer": "ipython3",
   "version": "3.10.12"
  }
 },
 "nbformat": 4,
 "nbformat_minor": 5
}
