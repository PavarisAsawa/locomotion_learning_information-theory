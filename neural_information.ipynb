{
 "cells": [
  {
   "cell_type": "markdown",
   "id": "17e0078e",
   "metadata": {},
   "source": [
    "# Visualize PCA of weight, activity and Estimates MI from data"
   ]
  },
  {
   "cell_type": "markdown",
   "id": "7be5c2d4",
   "metadata": {},
   "source": [
    "## Import lib"
   ]
  },
  {
   "cell_type": "code",
   "execution_count": 88,
   "id": "9e8ab800",
   "metadata": {},
   "outputs": [],
   "source": [
    "import torch\n",
    "import torch.nn as nn\n",
    "from torch.utils.data import DataLoader , TensorDataset\n",
    "from torchvision.utils import save_image, make_grid\n",
    "from torch.optim import Adam\n",
    "import torch.nn.init as init\n",
    "\n",
    "import numpy as np\n",
    "import math\n",
    "\n",
    "import matplotlib.pyplot as plt\n",
    "from matplotlib.ticker import MaxNLocator\n",
    "from matplotlib.ticker import MultipleLocator\n",
    "import matplotlib.cm as cm\n",
    "\n",
    "import copy\n",
    "import seaborn as sns\n",
    "\n",
    "from scipy.stats import norm\n",
    "from sklearn.neighbors import KernelDensity, LocalOutlierFactor\n",
    "\n",
    "import tqdm\n",
    "\n",
    "import pickle"
   ]
  },
  {
   "cell_type": "markdown",
   "id": "90f6e64d",
   "metadata": {},
   "source": [
    "## Load data"
   ]
  },
  {
   "cell_type": "code",
   "execution_count": 243,
   "id": "c251c2cf",
   "metadata": {},
   "outputs": [],
   "source": [
    "with open(\"data/weight_dynamic/HEBB-FULL_STATE-seed_0-rand-0.pkl\", \"rb\") as f:\n",
    "    loaded_buffer = pickle.load(f)"
   ]
  },
  {
   "cell_type": "code",
   "execution_count": 246,
   "id": "9a4128c1",
   "metadata": {},
   "outputs": [],
   "source": [
    "activity = loaded_buffer[\"brain\"][\"activity\"]"
   ]
  },
  {
   "cell_type": "code",
   "execution_count": 249,
   "id": "e2eb39fc",
   "metadata": {},
   "outputs": [
    {
     "name": "stdout",
     "output_type": "stream",
     "text": [
      "torch.Size([1, 64, 128])\n",
      "torch.Size([1, 128, 64])\n",
      "torch.Size([1, 64, 19])\n"
     ]
    }
   ],
   "source": [
    "print(activity[0][0].shape)\n",
    "print(activity[0][1].shape)\n",
    "print(activity[0][2].shape)\n"
   ]
  },
  {
   "cell_type": "code",
   "execution_count": 253,
   "id": "e45e9526",
   "metadata": {},
   "outputs": [
    {
     "data": {
      "text/plain": [
       "tensor([-0.0820,  0.2269,  0.0852,  0.6073, -0.1275, -0.0663, -0.1595, -0.1350,\n",
       "        -0.0866,  1.8812, -0.0127, -0.5276,  0.8358, -0.1217,  0.9251, -0.0131,\n",
       "         0.0064,  0.0577,  0.5141,  0.1528,  0.0401, -1.0808, -0.2727,  0.2252,\n",
       "         0.3158,  0.2323,  0.4710,  0.3015,  1.1081,  0.0336,  0.1256,  0.5328,\n",
       "        -0.4759, -0.0434, -0.0395, -0.0323,  1.3180,  1.4965,  0.2041,  0.7451,\n",
       "         0.0423,  0.0212, -0.2326,  0.0103,  1.2685,  0.0736, -1.2181, -0.2454,\n",
       "         0.1956,  0.8270,  0.0604,  0.2144, -0.0451, -0.3501,  0.5165,  0.2897,\n",
       "         0.1627, -0.6213,  0.1800,  0.2313,  2.0090, -0.4563,  0.2364,  0.6116,\n",
       "        -0.2883, -0.0826,  0.1779, -3.3860,  0.7775, -2.8363, -0.4531,  0.2757,\n",
       "        -0.2018, -0.1000,  0.2735,  0.0834, -0.0600,  0.1641, -0.1494,  0.2806,\n",
       "         0.0140,  0.2108,  0.0847, -0.1296,  0.5215, -0.9264, -0.0120, -0.0727,\n",
       "        -0.1945,  0.0773,  0.0073, -0.4201,  0.2485, -0.3316,  0.2052, -0.1102,\n",
       "        -0.3369, -0.3225, -0.0077,  0.0245, -0.6927, -1.1362, -1.3123, -0.1961,\n",
       "        -0.5152, -0.6582, -0.4260, -0.7558, -0.3154, -0.1968,  1.2033,  0.2426,\n",
       "        -0.1586, -0.0681,  0.0058, -0.2044, -0.0759, -1.0037, -0.1946,  0.3803,\n",
       "         1.0907, -0.9650, -0.0947, -0.0714,  0.9377,  0.4365, -0.1474,  0.6212])"
      ]
     },
     "execution_count": 253,
     "metadata": {},
     "output_type": "execute_result"
    }
   ],
   "source": [
    "activity[400][0][0,1,:]"
   ]
  },
  {
   "cell_type": "code",
   "execution_count": 234,
   "id": "d6721c82",
   "metadata": {},
   "outputs": [],
   "source": [
    "weight = loaded_buffer[\"brain\"][\"weight\"]\n"
   ]
  },
  {
   "cell_type": "code",
   "execution_count": 235,
   "id": "bbfbbdff",
   "metadata": {},
   "outputs": [
    {
     "data": {
      "text/plain": [
       "500"
      ]
     },
     "execution_count": 235,
     "metadata": {},
     "output_type": "execute_result"
    }
   ],
   "source": [
    "len(weight)"
   ]
  },
  {
   "cell_type": "code",
   "execution_count": 237,
   "id": "a2b4946f",
   "metadata": {},
   "outputs": [
    {
     "data": {
      "text/plain": [
       "1"
      ]
     },
     "execution_count": 237,
     "metadata": {},
     "output_type": "execute_result"
    }
   ],
   "source": [
    "len(weight[0][0])"
   ]
  },
  {
   "cell_type": "code",
   "execution_count": 242,
   "id": "7c0ebbfc",
   "metadata": {},
   "outputs": [
    {
     "data": {
      "text/plain": [
       "torch.Size([1, 64, 19])"
      ]
     },
     "execution_count": 242,
     "metadata": {},
     "output_type": "execute_result"
    }
   ],
   "source": [
    "weight[0][2].shape"
   ]
  },
  {
   "cell_type": "code",
   "execution_count": null,
   "id": "99aad6a0",
   "metadata": {},
   "outputs": [],
   "source": []
  }
 ],
 "metadata": {
  "kernelspec": {
   "display_name": ".venv",
   "language": "python",
   "name": "python3"
  },
  "language_info": {
   "codemirror_mode": {
    "name": "ipython",
    "version": 3
   },
   "file_extension": ".py",
   "mimetype": "text/x-python",
   "name": "python",
   "nbconvert_exporter": "python",
   "pygments_lexer": "ipython3",
   "version": "3.10.12"
  }
 },
 "nbformat": 4,
 "nbformat_minor": 5
}
